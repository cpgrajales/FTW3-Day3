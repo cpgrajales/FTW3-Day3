{
 "cells": [
  {
   "cell_type": "markdown",
   "metadata": {
    "colab_type": "text",
    "id": "EHmY5Ui9Moqu"
   },
   "source": []
  },
  {
   "cell_type": "markdown",
   "metadata": {
    "colab_type": "text",
    "id": "mYTuQ6qs2Lvw"
   },
   "source": [
    "#Palindrome checker\n"
   ]
  },
  {
   "cell_type": "code",
   "execution_count": 0,
   "metadata": {
    "colab": {
     "base_uri": "https://localhost:8080/",
     "height": 34
    },
    "colab_type": "code",
    "id": "XYPo4EPw2VFn",
    "outputId": "c9036b71-5a14-4c29-a398-db8312b6bd9e"
   },
   "outputs": [
    {
     "name": "stdout",
     "output_type": "stream",
     "text": [
      "The string is not a palindrome.\n"
     ]
    }
   ],
   "source": [
    "# Program to check if a string is palindrome or not\n",
    "\n",
    "x = \"dad\"\n",
    "\n",
    "x = x.casefold() #for caseless comparison\n",
    "y = reversed(x)\n",
    "\n",
    "if str(x) == str(y):\n",
    "   print(\"The string is a palindrome.\")\n",
    "else:\n",
    "   print(\"The string is not a palindrome.\")"
   ]
  },
  {
   "cell_type": "markdown",
   "metadata": {
    "colab_type": "text",
    "id": "0CTnEf743xY1"
   },
   "source": [
    "#Prime number checker"
   ]
  },
  {
   "cell_type": "code",
   "execution_count": 0,
   "metadata": {
    "colab": {
     "base_uri": "https://localhost:8080/",
     "height": 51
    },
    "colab_type": "code",
    "id": "UhuMPBkt7Bc-",
    "outputId": "1a23180a-cf8f-4e1f-b84b-1219cf0ee877"
   },
   "outputs": [
    {
     "name": "stdout",
     "output_type": "stream",
     "text": [
      "10 is not a prime number\n",
      "2 times 5 is 10\n"
     ]
    }
   ],
   "source": [
    "num = 10\n",
    "\n",
    "if num > 1:\n",
    "   # check for factors\n",
    "   for i in range(2,num):\n",
    "       if (num % i) == 0:\n",
    "           print(num,\"is not a prime number\")\n",
    "           print(i,\"times\",num//i,\"is\",num)\n",
    "           break\n",
    "   else:\n",
    "       print(num,\"is a prime number\")\n",
    "       \n",
    "# if input number is less than\n",
    "# or equal to 1, it is not prime\n",
    "else:\n",
    "   print(num,\"is not a prime number\")"
   ]
  },
  {
   "cell_type": "markdown",
   "metadata": {
    "colab_type": "text",
    "id": "Us7xLFrT8VuE"
   },
   "source": [
    "#Largest prime factor\n",
    "  "
   ]
  },
  {
   "cell_type": "code",
   "execution_count": 0,
   "metadata": {
    "colab": {
     "base_uri": "https://localhost:8080/",
     "height": 34
    },
    "colab_type": "code",
    "id": "vFidN7rkDV-2",
    "outputId": "0488f979-48a3-46bf-ae6d-73603c99ca13"
   },
   "outputs": [
    {
     "name": "stdout",
     "output_type": "stream",
     "text": [
      "6857.0\n"
     ]
    }
   ],
   "source": [
    "#The prime factors of 13195 are 5, 7, 13 and 29.\n",
    "\n",
    "#What is the largest prime factor of the number 600851475143 ?\n",
    "\n",
    "\n",
    "def findLargestPrimeFactor(n):\n",
    "    primeFactor = 1\n",
    "    i = 2\n",
    "\n",
    "    while i <= n / i:\n",
    "        if n % i == 0:\n",
    "            primeFactor = i\n",
    "            n /= i\n",
    "        else:\n",
    "            i += 1\n",
    "\n",
    "    if primeFactor < n:\n",
    "        primeFactor = n\n",
    "\n",
    "    return primeFactor\n",
    "\n",
    "print(findLargestPrimeFactor(600851475143))\n"
   ]
  },
  {
   "cell_type": "markdown",
   "metadata": {
    "colab_type": "text",
    "id": "0S05hiM5EjmR"
   },
   "source": [
    "#Largest palindrome product\n",
    "\n"
   ]
  },
  {
   "cell_type": "code",
   "execution_count": 0,
   "metadata": {
    "colab": {
     "base_uri": "https://localhost:8080/",
     "height": 34
    },
    "colab_type": "code",
    "id": "1sWvU94NFkVe",
    "outputId": "de75294b-afae-45ed-b2ca-3ced7d22e2d3"
   },
   "outputs": [
    {
     "name": "stdout",
     "output_type": "stream",
     "text": [
      "906609\n"
     ]
    }
   ],
   "source": [
    "def isPalindrome(n):\n",
    "    s = str(n)\n",
    "    reverseString = \"\"\n",
    "    \n",
    "    for i in range (len(s) - 1, -1, -1):\n",
    "        reverseString += s[i]\n",
    "\n",
    "    return reverseString == s\n",
    "\n",
    "# returns largest palindrome that is a multiple of two 3 digit numbers\n",
    "# and returns -1 if no such palindrome exists\n",
    "def findLargestPalindrome():\n",
    "    palindrome = -1\n",
    "    \n",
    "    for i in range (999, 99, -1):\n",
    "        for j in range (i, 99, -1):\n",
    "            \n",
    "            # if product is palindrome and is greater than last recorded palindrome\n",
    "            if isPalindrome(i * j) and i * j > palindrome:\n",
    "                palindrome = i * j\n",
    "    return palindrome;\n",
    "\n",
    "print (findLargestPalindrome())\n"
   ]
  },
  {
   "cell_type": "code",
   "execution_count": 0,
   "metadata": {
    "colab": {},
    "colab_type": "code",
    "id": "tWqyWxhhF-c9"
   },
   "outputs": [],
   "source": []
  }
 ],
 "metadata": {
  "colab": {
   "collapsed_sections": [],
   "name": "ftwday3_hw",
   "provenance": []
  },
  "kernelspec": {
   "display_name": "Python 3",
   "language": "python",
   "name": "python3"
  },
  "language_info": {
   "codemirror_mode": {
    "name": "ipython",
    "version": 3
   },
   "file_extension": ".py",
   "mimetype": "text/x-python",
   "name": "python",
   "nbconvert_exporter": "python",
   "pygments_lexer": "ipython3",
   "version": "3.7.4"
  }
 },
 "nbformat": 4,
 "nbformat_minor": 1
}
